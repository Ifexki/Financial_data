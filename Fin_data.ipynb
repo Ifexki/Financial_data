Python code containing extracted data
import os
import asyncio
from requests_html import AsyncHTMLSession
from pyppeteer import launch

# URL of the SEC financial statement data sets page
url = "https://www.sec.gov/dera/data/financial-statement-data-sets.html"

# Directory to save the downloaded datasets
download_dir = "sec_datasets"
os.makedirs(download_dir, exist_ok=True)

async def download_datasets():
    # Start an asynchronous HTML session
    session = AsyncHTMLSession()

    # Set the path to your Chromium executable
    session.browser = await launch(executablePath='path/to/your/chromium')

    # Get the webpage content
    response = await session.get(url)
    await response.html.arender()  # Render JavaScript

    # Find all links to the datasets
    links = response.html.find('a')

    # Filter links that point to zip files
    zip_links = [link.attrs['href'] for link in links if link.attrs['href'].endswith('.zip')]

    # Base URL for relative links
    base_url = "https://www.sec.gov"

    for link in zip_links:
        # Construct the full URL for each dataset
        dataset_url = base_url + link
        # Extract the filename from the URL
        filename = os.path.join(download_dir, os.path.basename(link))
        
        # Download the dataset
        print(f"Downloading {dataset_url} to {filename}")
        dataset_response = await session.get(dataset_url)
        dataset_response.raise_for_status()  # Check if the request was successful

        # Save the dataset to the specified directory
        with open(filename, 'wb') as file:
            file.write(dataset_response.content)
        print(f"Downloaded {filename}")

    print("All datasets have been downloaded.")

# Run the asynchronous download function
await download_datasets()
